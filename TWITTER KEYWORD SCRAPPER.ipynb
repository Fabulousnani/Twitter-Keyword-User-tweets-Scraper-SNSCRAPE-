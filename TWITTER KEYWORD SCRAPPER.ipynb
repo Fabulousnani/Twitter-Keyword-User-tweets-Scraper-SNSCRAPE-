{
 "cells": [
  {
   "cell_type": "code",
   "execution_count": 2,
   "id": "f98c83dc",
   "metadata": {},
   "outputs": [
    {
     "name": "stdout",
     "output_type": "stream",
     "text": [
      "Requirement already satisfied: snscrape in c:\\users\\dell\\anaconda3\\lib\\site-packages (0.4.3.20220106)\n",
      "Requirement already satisfied: lxml in c:\\users\\dell\\anaconda3\\lib\\site-packages (from snscrape) (4.6.3)\n",
      "Requirement already satisfied: beautifulsoup4 in c:\\users\\dell\\anaconda3\\lib\\site-packages (from snscrape) (4.10.0)\n",
      "Requirement already satisfied: requests[socks] in c:\\users\\dell\\anaconda3\\lib\\site-packages (from snscrape) (2.26.0)\n",
      "Requirement already satisfied: filelock in c:\\users\\dell\\anaconda3\\lib\\site-packages (from snscrape) (3.3.1)\n",
      "Requirement already satisfied: soupsieve>1.2 in c:\\users\\dell\\anaconda3\\lib\\site-packages (from beautifulsoup4->snscrape) (2.2.1)\n",
      "Requirement already satisfied: urllib3<1.27,>=1.21.1 in c:\\users\\dell\\anaconda3\\lib\\site-packages (from requests[socks]->snscrape) (1.26.7)\n",
      "Requirement already satisfied: charset-normalizer~=2.0.0 in c:\\users\\dell\\anaconda3\\lib\\site-packages (from requests[socks]->snscrape) (2.0.4)\n",
      "Requirement already satisfied: idna<4,>=2.5 in c:\\users\\dell\\anaconda3\\lib\\site-packages (from requests[socks]->snscrape) (3.2)\n",
      "Requirement already satisfied: certifi>=2017.4.17 in c:\\users\\dell\\anaconda3\\lib\\site-packages (from requests[socks]->snscrape) (2021.10.8)\n",
      "Requirement already satisfied: PySocks!=1.5.7,>=1.5.6 in c:\\users\\dell\\anaconda3\\lib\\site-packages (from requests[socks]->snscrape) (1.7.1)\n"
     ]
    }
   ],
   "source": [
    "!pip install snscrape"
   ]
  },
  {
   "cell_type": "code",
   "execution_count": 5,
   "id": "6e7b1888",
   "metadata": {},
   "outputs": [],
   "source": [
    "import snscrape.modules.twitter as sntwitter\n",
    "import pandas as pd\n",
    "from time import sleep\n",
    "from tqdm import tqdm"
   ]
  },
  {
   "cell_type": "code",
   "execution_count": 6,
   "id": "2c121241",
   "metadata": {},
   "outputs": [],
   "source": [
    "tweet_data =[]"
   ]
  },
  {
   "cell_type": "code",
   "execution_count": null,
   "id": "b22c1b3b",
   "metadata": {},
   "outputs": [],
   "source": [
    "username =input('Enter your keyword:')"
   ]
  },
  {
   "cell_type": "code",
   "execution_count": null,
   "id": "80802413",
   "metadata": {},
   "outputs": [],
   "source": [
    "number =int(input('How many tweets do you want to scrape: '))"
   ]
  },
  {
   "cell_type": "code",
   "execution_count": null,
   "id": "addc9744",
   "metadata": {},
   "outputs": [],
   "source": [
    "for i,tweets in enumerate(sntwitter.TwitterSearchScraper('{}',format(username)).get_items()):\n",
    "    if i > number:\n",
    "        break\n",
    "        tweet_data.append([tweets.date,tweets.content,tweets.user.username,tweets.url])"
   ]
  },
  {
   "cell_type": "code",
   "execution_count": null,
   "id": "e9cadf48",
   "metadata": {},
   "outputs": [],
   "source": [
    "df= pd.DataFrame(tweet_data, columns=['Date','Tweets','Username','Url'])"
   ]
  },
  {
   "cell_type": "code",
   "execution_count": null,
   "id": "b71c533d",
   "metadata": {},
   "outputs": [],
   "source": [
    "df.to_csv(f'{username}.csv', index=false, encoding='utf-8')"
   ]
  },
  {
   "cell_type": "code",
   "execution_count": null,
   "id": "dee59f09",
   "metadata": {},
   "outputs": [],
   "source": [
    "df.head()"
   ]
  },
  {
   "cell_type": "code",
   "execution_count": null,
   "id": "655a9ceb",
   "metadata": {},
   "outputs": [],
   "source": [
    "df.describe()"
   ]
  },
  {
   "cell_type": "code",
   "execution_count": null,
   "id": "8f9e808d",
   "metadata": {},
   "outputs": [],
   "source": []
  }
 ],
 "metadata": {
  "kernelspec": {
   "display_name": "Python 3 (ipykernel)",
   "language": "python",
   "name": "python3"
  },
  "language_info": {
   "codemirror_mode": {
    "name": "ipython",
    "version": 3
   },
   "file_extension": ".py",
   "mimetype": "text/x-python",
   "name": "python",
   "nbconvert_exporter": "python",
   "pygments_lexer": "ipython3",
   "version": "3.9.7"
  }
 },
 "nbformat": 4,
 "nbformat_minor": 5
}
